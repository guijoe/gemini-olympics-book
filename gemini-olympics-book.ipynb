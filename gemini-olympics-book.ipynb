{
 "cells": [
  {
   "cell_type": "code",
   "execution_count": 4,
   "metadata": {},
   "outputs": [
    {
     "data": {
      "text/plain": [
       "CompletedProcess(args=['pandoc', './texts\\\\Olympics.md', '-o', './texts\\\\Olympics.docx'], returncode=0)"
      ]
     },
     "execution_count": 4,
     "metadata": {},
     "output_type": "execute_result"
    }
   ],
   "source": [
    "import os\n",
    "import subprocess\n",
    "import google.generativeai as genai\n",
    "\n",
    "GEMINI_API_KEY='YOUR_GEMINI_API_KEY'\n",
    "genai.configure(api_key=GEMINI_API_KEY)\n",
    "\n",
    "model = genai.GenerativeModel('models/gemini-1.5-pro-latest')\n",
    "\n",
    "#### Folders and Files\n",
    "folder = './texts'\n",
    "docx_file = 'Olympics.docx'\n",
    "docx_file_path = os.path.join(folder, docx_file)\n",
    "file_wo_ext, _ = os.path.splitext(os.path.basename(docx_file_path))\n",
    "\n",
    "#### Write the Introduction to the Book\n",
    "introduction = model.generate_content(\"Write a 500 hundred words introduction for the book titled 'Fun Facts about the olympics games, from 1896 to 2024'\")\n",
    "book_text_md = introduction.text + \"\\n\"\n",
    "\n",
    "#### Write the text of the Book\n",
    "years = range(1896, 2025, 4)\n",
    "for year in years:\n",
    "    instructions = f\"Write a chapter of the book titled 'Fun Facts about the olympics games' for year {year}. This chapter informs the reader about the organising country, city, the historical context, and some of the most illustruous stories and facts about that year's games. The mood should generally be bright. Please use some markdown formatting for chapter headers and you can divide chapters into sections. Write in prose, using about 1500 words for this chapter.\"\n",
    "    generated_md_text = model.generate_content(instructions)\n",
    "    book_text_md += generated_md_text.text + \"\\n\"\n",
    "md_file_path = os.path.join(folder, file_wo_ext + \".md\")\n",
    "\n",
    "with open(md_file_path, 'w', encoding=\"utf-8\") as f:\n",
    "    f.write(book_text_md)\n",
    "\n",
    "subprocess.run(['pandoc', md_file_path, '-o', docx_file_path])"
   ]
  }
 ],
 "metadata": {
  "kernelspec": {
   "display_name": "Python 3",
   "language": "python",
   "name": "python3"
  },
  "language_info": {
   "codemirror_mode": {
    "name": "ipython",
    "version": 3
   },
   "file_extension": ".py",
   "mimetype": "text/x-python",
   "name": "python",
   "nbconvert_exporter": "python",
   "pygments_lexer": "ipython3",
   "version": "3.9.1"
  }
 },
 "nbformat": 4,
 "nbformat_minor": 2
}
